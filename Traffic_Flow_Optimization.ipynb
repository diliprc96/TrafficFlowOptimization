{
  "nbformat": 4,
  "nbformat_minor": 0,
  "metadata": {
    "colab": {
      "provenance": [],
      "include_colab_link": true
    },
    "kernelspec": {
      "name": "python3",
      "display_name": "Python 3"
    },
    "language_info": {
      "name": "python"
    }
  },
  "cells": [
    {
      "cell_type": "markdown",
      "metadata": {
        "id": "view-in-github",
        "colab_type": "text"
      },
      "source": [
        "<a href=\"https://colab.research.google.com/github/diliprc96/TrafficFlowOptimization/blob/main/Traffic_Flow_Optimization.ipynb\" target=\"_parent\"><img src=\"https://colab.research.google.com/assets/colab-badge.svg\" alt=\"Open In Colab\"/></a>"
      ]
    },
    {
      "cell_type": "markdown",
      "source": [
        "### `---------------Mandatory Information to fill------------`"
      ],
      "metadata": {
        "id": "j7jO_ata_tGB"
      }
    },
    {
      "cell_type": "markdown",
      "metadata": {
        "id": "q5BJ7jLz7afs"
      },
      "source": [
        "### Group ID:\n",
        "### Group Members Name with Student ID:\n",
        "1. Student 1\n",
        "2. Student 2\n",
        "3. Student 3\n",
        "4. Student 4\n"
      ]
    },
    {
      "cell_type": "markdown",
      "source": [
        "`-------------------Write your remarks (if any) that you want should get consider at the time of evaluation---------------`"
      ],
      "metadata": {
        "id": "YXHhoNgkAhUg"
      }
    },
    {
      "cell_type": "markdown",
      "source": [
        "Remarks: ##Add here"
      ],
      "metadata": {
        "id": "-5tK16CbA5X_"
      }
    },
    {
      "cell_type": "markdown",
      "source": [
        "## Objective:\n",
        "Develop and compare Reinforcement Learning agents (DQN and Actor-Critic) to optimize traffic flow and vehicle speed regulation. Implement RL-based strategies to enhance traffic efficiency, reduce congestion, and improve safety by adaptively controlling the speed and lane changes of a selected vehicle within the simulated environment.\n",
        "\n",
        "\n"
      ],
      "metadata": {
        "id": "smBpMKNHawqc"
      }
    },
    {
      "cell_type": "markdown",
      "source": [
        "## Dataset:\n",
        "\n",
        "***Link for accessing dataset:*** https://drive.google.com/file/d/1pyExKzpKVRhFr2Ltfp6Ts8yF8OdWZNgH/view?usp=drive_link\n",
        "\n",
        "**Time Step:** The dataset provides vehicle trajectory data at a frequency of 10 Hz, meaning each frame represents a 0.1-second interval."
      ],
      "metadata": {
        "id": "JKUrRkR4bFxr"
      }
    },
    {
      "cell_type": "markdown",
      "source": [
        "## State Space :\n",
        "\n",
        "The state represents the current traffic conditions and vehicle status:\n",
        "\n",
        "1. Vehicle Speed (v_Vel) (m/s)\n",
        "\n",
        "2.  Vehicle Acceleration (v_Acc) (m/s²)\n",
        "\n",
        "3.  Lane Position (Lane_ID)\n",
        "\n",
        "4.  Distance to Preceding Vehicle (Space_Headway) (m)\n",
        "\n",
        "5.  Time Gap to Preceding Vehicle (Time_Headway) (s)\n",
        "\n",
        "6.  Vehicle Class (v_Class)\n",
        "\n",
        "7.  Global X (Global_X)\n",
        "\n",
        "8.  Global Y (Global_Y)\n",
        "\n",
        "Total State Vector Dimension: 8 features\n"
      ],
      "metadata": {
        "id": "u4yLcPvCbRrr"
      }
    },
    {
      "cell_type": "markdown",
      "source": [
        "## Action Space :\n",
        "\n",
        "| Action | Description         | Conditions                                                | Change Applied  |\n",
        "|--------|---------------------|----------------------------------------------------------|-----------------|\n",
        "| 0      | Maintain current speed | No change required                                      | 0 m/s adjustment |\n",
        "| 1      | Increase speed      | If Space_Headway ≥ 15m                                  | +2 m/s          |\n",
        "| 2      | Decrease speed      | If Space_Headway < 10m                                  | −2 m/s          |\n",
        "| 3      | Change to left lane | If left lane exists and is not occupied and Space_Headway ≥ 15m | Move left       |\n",
        "| 4      | Change to right lane | If right lane exists and is not occupied and Space_Headway ≥ 15m | Move right      |\n"
      ],
      "metadata": {
        "id": "O3OUEjrfblhK"
      }
    },
    {
      "cell_type": "markdown",
      "source": [
        "## Traffic Safety and Target Speed:\n",
        "\n",
        "**Safe Following Distance:** At least 15 meters from the preceding vehicle *(Space_Headway≥15m)*.\n",
        "\n",
        "**Collision Risk:** Less than 5 meters gap is unsafe *(Space_Headway<5m)*.\n",
        "\n",
        "**Optimal Target Speed:** 27 m/s (approximately 60 mph, highway recommended speed)."
      ],
      "metadata": {
        "id": "QumV-Xi9cfua"
      }
    },
    {
      "cell_type": "markdown",
      "source": [
        "## Reward Function:\n",
        "\n",
        "\\begin{equation}\n",
        "R = (10 − |V_t - V_{\\text{optimal}}| ) − P_{\\text{collision}}\n",
        "\\end{equation}\n",
        "\n",
        "Where:\n",
        "\n",
        "- $ V_t $ = Current vehicle speed (m/s)  \n",
        "- $ V_{\\text{optimal}} $ = **27 m/s** (highway optimal speed)  \n",
        "- $ P_{\\text{collision}} $  =  \n",
        "  \\begin{cases}\n",
        "  20, & \\text{if SpaceHeadway} < 5m \\text{ (high collision risk)} \\\\\n",
        "  0, & \\text{otherwise}\n",
        "  \\end{cases}\n",
        "\n",
        "\n"
      ],
      "metadata": {
        "id": "wfitJkYUcs0a"
      }
    },
    {
      "cell_type": "markdown",
      "source": [
        "## Requirements and Deliverables:\n",
        "\n",
        "Implement the Traffic Flow Optimization Problem for the given above scenario for all the below mentioned RL methods."
      ],
      "metadata": {
        "id": "StV2UkLKdwMx"
      }
    },
    {
      "cell_type": "markdown",
      "source": [
        "### Initialize constants"
      ],
      "metadata": {
        "id": "ZGMBmb9OeCCA"
      }
    },
    {
      "cell_type": "code",
      "source": [
        "# Constants\n"
      ],
      "metadata": {
        "id": "q517AMe7dyU5"
      },
      "execution_count": null,
      "outputs": []
    },
    {
      "cell_type": "markdown",
      "source": [
        "### Load Dataset    (1 Mark)"
      ],
      "metadata": {
        "id": "GMzlXiFBeM8f"
      }
    },
    {
      "cell_type": "code",
      "source": [
        "# Code for Dataset loading and preprocessing\n",
        "#-----write your code below this line---------\n",
        "\n",
        "# Convert relevant columns (e.g., v_Vel, v_Acc, Space_Headway, Time_Headway, etc.) to numerical data types.\n",
        "\n",
        "# Normalize or standardize the numerical data to improve training stability.\n"
      ],
      "metadata": {
        "id": "CEGbGsxWeRtQ"
      },
      "execution_count": null,
      "outputs": []
    },
    {
      "cell_type": "markdown",
      "source": [
        "### Design a Traffic Control Environment (0.5 Mark)"
      ],
      "metadata": {
        "id": "8mfYQVh8e_6X"
      }
    },
    {
      "cell_type": "code",
      "source": [
        "# Code for environment creation\n",
        "#-----write your code below this line---------\n",
        "\n",
        "class TrafficEnvironment:"
      ],
      "metadata": {
        "id": "YHc3gLbpfHPo"
      },
      "execution_count": null,
      "outputs": []
    },
    {
      "cell_type": "markdown",
      "source": [
        "### Define Action Functions: (2.5 Mark)\n",
        "\n",
        "1.  MaintainSpeed\n",
        "2.  IncreaseSpeed\n",
        "3.  DecreaseSpeed\n",
        "4.  ChangeLaneLeft\n",
        "5.  ChangeLaneRight\n"
      ],
      "metadata": {
        "id": "nHlxZ6zPfTTG"
      }
    },
    {
      "cell_type": "code",
      "source": [
        "# Code for action function\n",
        "#-----write your code below this line-------\n",
        "\n",
        "def MaintainSpeed():\n",
        "  #-----\n",
        "def IncreaseSpeed():\n",
        "  #-----\n",
        "def DecreaseSpeed():\n",
        "  #-----\n",
        "def ChangeLaneLeft():\n",
        "  #-----\n",
        "def ChangeLaneRight():\n",
        "  #-----"
      ],
      "metadata": {
        "id": "N5Uu9fmMfxM3"
      },
      "execution_count": null,
      "outputs": []
    },
    {
      "cell_type": "markdown",
      "source": [
        "### Implement the Reward Function  (1 Mark)\n"
      ],
      "metadata": {
        "id": "3UXNXGIjf9Xe"
      }
    },
    {
      "cell_type": "code",
      "source": [
        "# Code for reward function\n",
        "#-----write your code below this line-------\n",
        "\n",
        "def Reward():\n",
        "  #-------"
      ],
      "metadata": {
        "id": "0ZILFSQJgBrG"
      },
      "execution_count": null,
      "outputs": []
    },
    {
      "cell_type": "markdown",
      "source": [
        "### Implement a Replay Buffer for experience storage in DQN   (1 Mark)"
      ],
      "metadata": {
        "id": "5C6zfXWkgbyG"
      }
    },
    {
      "cell_type": "code",
      "source": [
        "# Code for replay buffer\n",
        "#-----write your code below this line-------"
      ],
      "metadata": {
        "id": "l10axX2Ugeg8"
      },
      "execution_count": null,
      "outputs": []
    },
    {
      "cell_type": "markdown",
      "source": [
        "### Design and Train DQN   (2.5 Mark)\n"
      ],
      "metadata": {
        "id": "TkK9jkv5g-Q8"
      }
    },
    {
      "cell_type": "code",
      "source": [
        "# Code for training\n",
        "#-----write your code below this line------"
      ],
      "metadata": {
        "id": "Hg-Ol5q7hCn8"
      },
      "execution_count": null,
      "outputs": []
    },
    {
      "cell_type": "markdown",
      "source": [
        "### Design and train Actor-Critic Algorithm  (2.5 Mark)\n"
      ],
      "metadata": {
        "id": "2rz6hJmThHe0"
      }
    },
    {
      "cell_type": "code",
      "source": [
        "# Code for training\n",
        "#-----write your code below this line------"
      ],
      "metadata": {
        "id": "5U5Y787phKRM"
      },
      "execution_count": null,
      "outputs": []
    },
    {
      "cell_type": "markdown",
      "source": [
        "### Plot the graph for Average Reward   (1 Mark)"
      ],
      "metadata": {
        "id": "mvRLU6xUiHVz"
      }
    },
    {
      "cell_type": "code",
      "source": [
        "# Code for plotting the average reward\n",
        "#-----write your code below this line------"
      ],
      "metadata": {
        "id": "5DJc8eH-iMCT"
      },
      "execution_count": null,
      "outputs": []
    },
    {
      "cell_type": "markdown",
      "source": [
        "### Compare and summarize Traffic Flow Outcomes for DQN  and Actor Critic  (1 Mark)\n"
      ],
      "metadata": {
        "id": "tscCkZsHiSwM"
      }
    },
    {
      "cell_type": "markdown",
      "source": [],
      "metadata": {
        "id": "zM0eAlD9Bqc2"
      }
    }
  ]
}